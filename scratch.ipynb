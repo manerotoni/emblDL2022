{
 "cells": [
  {
   "cell_type": "code",
   "execution_count": 1,
   "id": "0aaa5bec-dd1e-4d05-add1-1b33451df7b0",
   "metadata": {},
   "outputs": [
    {
     "name": "stdout",
     "output_type": "stream",
     "text": [
      "/bin/bash: /opt/conda/envs/dl-mw-py39/lib/libtinfo.so.6: no version information available (required by /bin/bash)\n",
      "Collecting git+https://github.com/stardist/augmend.git\n",
      "  Cloning https://github.com/stardist/augmend.git to /tmp/pip-req-build-0fxt2f5c\n",
      "  Running command git clone -q https://github.com/stardist/augmend.git /tmp/pip-req-build-0fxt2f5c\n",
      "Building wheels for collected packages: augmend\n",
      "  Building wheel for augmend (setup.py) ... \u001b[?25ldone\n",
      "\u001b[?25h  Created wheel for augmend: filename=augmend-0.1.0-py3-none-any.whl size=17335 sha256=bcd191c5fd27d555a8a41a85f190f6777dfa267f8432c26a34d276cca0332e88\n",
      "  Stored in directory: /tmp/pip-ephem-wheel-cache-3bwdsbju/wheels/7e/25/ae/12b57e94ea84925054b172bc13f3d33da1723b303f1cae5974\n",
      "Successfully built augmend\n",
      "Installing collected packages: augmend\n",
      "Successfully installed augmend-0.1.0\n"
     ]
    }
   ],
   "source": [
    "!pip install git+https://github.com/stardist/augmend.git"
   ]
  },
  {
   "cell_type": "code",
   "execution_count": null,
   "id": "af7d5381-aea6-4e47-91ae-4b273de540fa",
   "metadata": {},
   "outputs": [],
   "source": []
  }
 ],
 "metadata": {
  "kernelspec": {
   "display_name": "DL for Image Analysis 2022 (Keras)",
   "language": "python",
   "name": "dl-mw-py39"
  },
  "language_info": {
   "codemirror_mode": {
    "name": "ipython",
    "version": 3
   },
   "file_extension": ".py",
   "mimetype": "text/x-python",
   "name": "python",
   "nbconvert_exporter": "python",
   "pygments_lexer": "ipython3",
   "version": "3.9.7"
  }
 },
 "nbformat": 4,
 "nbformat_minor": 5
}
