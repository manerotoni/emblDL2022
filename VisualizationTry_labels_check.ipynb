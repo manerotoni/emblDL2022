{
 "cells": [
  {
   "cell_type": "code",
   "execution_count": 6,
   "metadata": {},
   "outputs": [],
   "source": [
    "import os\n",
    "import numpy as np\n",
    "import pandas as pd\n",
    "import matplotlib.pyplot as plt\n",
    "from glob import glob\n",
    "from tifffile import imread, imsave\n",
    "import json"
   ]
  },
  {
   "cell_type": "code",
   "execution_count": 7,
   "metadata": {},
   "outputs": [],
   "source": [
    "files = sorted(glob('data/masks/*.tif'))\n",
    "\n",
    "labels = sorted(glob('data/labels/*.json'))\n",
    "C = []\n",
    "for el in labels:\n",
    "    with open(el, 'r') as fp:\n",
    "        C.append(json.load(fp))"
   ]
  },
  {
   "cell_type": "code",
   "execution_count": 8,
   "metadata": {},
   "outputs": [],
   "source": [
    "masks = list(map(imread, files))\n",
    "mask_labels = [sorted(np.unique(masks[i])) for i in range(len(masks))]"
   ]
  },
  {
   "cell_type": "code",
   "execution_count": 15,
   "metadata": {},
   "outputs": [
    {
     "name": "stdout",
     "output_type": "stream",
     "text": [
      "0\n",
      "<class 'str'> <class 'str'>\n",
      "{'26', '4040', '1699', '307', '3729', '578', '768', '1180', '550', '206', '2508', '1678', '484', '3818', '2872', '1077', '299', '4044', '4031', '1042', '694', '1836', '1559', '1367', '305', '4048', '33', '504', '4047', '225', '34', '172', '522', '711', '1358', '233', '981', '40', '3558', '1241', '373', '517', '4046', '805', '683', '4038', '4041', '258', '984', '1567', '1746', '652', '4043', '143', '917', '894', '2620', '1825', '895', '240', '554', '405', '3253', '68', '4045', '3590', '815', '296', '1579', '4039', '1337', '4042', '1788', '3562', '3151', '1553', '51', '644', '218', '1820', '4050', '809', '427', '238', '1676', '3268', '2185', '904', '2125', '1331', '3408', '275', '2842', '467', '960', '774', '1725', '176', '2060', '1856', '2084', '860', '527', '3819', '924', '3296', '797', '3940', '1819', '1194', '2585', '134', '3572', '1531', '38', '1125', '1845', '1783', '1160', '618', '1439', '2911', '3409', '242', '184', '120', '849', '235', '2195', '1967', '1170', '255', '1957', '2229', '3351', '3090', '1305', '911', '666', '1906', '1253', '794', '1762', '1176', '2363', '1968', '3488', '4036', '1624', '3342', '3594', '1787', '2577', '4037', '1646', '1374', '2678', '462', '1407'}\n",
      "{'9', '2', '8', '4', ']', '7', '[', ' ', '6', '3', ',', '5', '1'}\n"
     ]
    }
   ],
   "source": [
    "for i in range(len(labels)):\n",
    "    print(i)\n",
    "    \n",
    "    ids_labels = list(C[i].keys())\n",
    "    ids_mask = str(mask_labels[i][1:])\n",
    "    \n",
    "    print(type(ids_labels[0]), type(ids_mask[0]))\n",
    "    \n",
    "    ids_labels = set(ids_labels)\n",
    "    ids_mask = set(ids_mask)\n",
    "    print(ids_labels - ids_mask)\n",
    "    print(ids_mask - ids_labels)\n",
    "    break"
   ]
  },
  {
   "cell_type": "code",
   "execution_count": 18,
   "metadata": {},
   "outputs": [
    {
     "name": "stdout",
     "output_type": "stream",
     "text": [
      "2282 2277\n",
      "2292 2282\n",
      "2300 2292\n",
      "2325 2300\n",
      "2342 2325\n",
      "2353 2342\n",
      "2375 2353\n",
      "2398 2375\n",
      "2400 2398\n",
      "2409 2400\n",
      "2461 2409\n",
      "2477 2461\n",
      "2478 2477\n",
      "2500 2478\n",
      "2533 2499\n",
      "2574 2500\n",
      "2582 2533\n",
      "2618 2574\n",
      "2739 2582\n",
      "2786 2618\n",
      "2807 2739\n",
      "2838 2786\n",
      "2891 2807\n",
      "2899 2838\n",
      "2900 2891\n",
      "2945 2899\n",
      "2959 2900\n",
      "3024 2945\n",
      "3065 2959\n",
      "3071 3024\n",
      "3089 3065\n",
      "3112 3071\n",
      "3126 3089\n",
      "3130 3112\n",
      "3176 3126\n",
      "3185 3130\n",
      "3224 3176\n",
      "3248 3185\n",
      "3311 3224\n",
      "3336 3248\n",
      "3426 3311\n",
      "3466 3336\n",
      "3542 3426\n",
      "3577 3466\n",
      "3650 3542\n",
      "3669 3577\n",
      "3814 3650\n",
      "3826 3669\n",
      "3991 3814\n",
      "4051 3826\n"
     ]
    }
   ],
   "source": [
    "ids_mask = sorted(np.unique(masks[1]))[1:]\n",
    "ids_labels = df['label']\n",
    "\n",
    "for i in range(len(ids_mask)):\n",
    "    if ids_mask[i] != ids_labels[i]:\n",
    "        print(ids_mask[i], ids_labels[i])"
   ]
  },
  {
   "cell_type": "code",
   "execution_count": null,
   "metadata": {},
   "outputs": [],
   "source": [
    "classes = {'RGC': 1, 'BC': 2, 'PR': 3, 'AC': 4, 'HC': 5, 'LENS': 6, 'RPE': 7, np.nan : 8}\n",
    "\n",
    "converted_classes = df['class'].map(classes)\n",
    "print(converted_classes)"
   ]
  },
  {
   "cell_type": "code",
   "execution_count": null,
   "metadata": {},
   "outputs": [],
   "source": [
    "ids = {k:v for k,v in zip(df['label'], converted_classes)}\n",
    "ids[0] = 0\n",
    "print(ids)"
   ]
  },
  {
   "cell_type": "code",
   "execution_count": null,
   "metadata": {},
   "outputs": [],
   "source": [
    "print(len(df), len(ids))"
   ]
  },
  {
   "cell_type": "code",
   "execution_count": null,
   "metadata": {},
   "outputs": [],
   "source": [
    "mask = masks[0]\n",
    "m = mask.flatten()\n",
    "print(m)\n",
    "new_mask = []\n",
    "for i in range(len(m)):\n",
    "    if m[i] not in ids:\n",
    "        new_mask.append(8)\n",
    "    else:\n",
    "        new_mask.append(ids[m[i]])\n",
    "    \n",
    "print(new_mask)"
   ]
  },
  {
   "cell_type": "code",
   "execution_count": null,
   "metadata": {},
   "outputs": [],
   "source": [
    "print(masks[0].shape)\n",
    "\n",
    "new_mask = np.asarray(new_mask)\n",
    "new_mask = np.reshape(new_mask, masks[0].shape)\n",
    "print(new_mask.shape)"
   ]
  },
  {
   "cell_type": "code",
   "execution_count": null,
   "metadata": {},
   "outputs": [],
   "source": [
    "plt.imshow(new_mask[10])\n",
    "plt.show()"
   ]
  },
  {
   "cell_type": "code",
   "execution_count": null,
   "metadata": {},
   "outputs": [],
   "source": [
    "import napari\n",
    "\n",
    "viewer = napari.view_image(new_mask)\n"
   ]
  },
  {
   "cell_type": "code",
   "execution_count": null,
   "metadata": {},
   "outputs": [],
   "source": [
    "viewer = napari.view_labels(new_mask, scale=(2, 1, 1))"
   ]
  },
  {
   "cell_type": "code",
   "execution_count": null,
   "metadata": {},
   "outputs": [],
   "source": [
    "# sava data as json file\n",
    "import json\n",
    "with open(path_mask+'/labels/'+os.path.basename(labels[0])[:-3]+'json', 'w') as fp:\n",
    "    json_ids = json.dump(ids, fp)\n",
    "    "
   ]
  },
  {
   "cell_type": "code",
   "execution_count": null,
   "metadata": {},
   "outputs": [],
   "source": [
    "!ls\n"
   ]
  },
  {
   "cell_type": "code",
   "execution_count": null,
   "metadata": {},
   "outputs": [],
   "source": [
    "!cd masks\n"
   ]
  },
  {
   "cell_type": "code",
   "execution_count": null,
   "metadata": {},
   "outputs": [],
   "source": [
    "path_mask"
   ]
  },
  {
   "cell_type": "code",
   "execution_count": null,
   "metadata": {},
   "outputs": [],
   "source": [
    "!ls /Users/lucrezia/Desktop/StarDistData/ELISA/project9_classification_of_neuronal_types/masks/complete_masks/manually_corrected/labels/"
   ]
  },
  {
   "cell_type": "code",
   "execution_count": null,
   "metadata": {},
   "outputs": [],
   "source": []
  }
 ],
 "metadata": {
  "kernelspec": {
   "display_name": "DL for Image Analysis 2022 (Keras)",
   "language": "python",
   "name": "dl-mw-py39"
  },
  "language_info": {
   "codemirror_mode": {
    "name": "ipython",
    "version": 3
   },
   "file_extension": ".py",
   "mimetype": "text/x-python",
   "name": "python",
   "nbconvert_exporter": "python",
   "pygments_lexer": "ipython3",
   "version": "3.9.7"
  }
 },
 "nbformat": 4,
 "nbformat_minor": 4
}
