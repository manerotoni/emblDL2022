{
 "cells": [
  {
   "cell_type": "code",
   "execution_count": 4,
   "metadata": {},
   "outputs": [],
   "source": [
    "import os\n",
    "import numpy as np\n",
    "import pandas as pd\n",
    "import matplotlib.pyplot as plt\n",
    "from glob import glob\n",
    "from tifffile import imread, imsave"
   ]
  },
  {
   "cell_type": "code",
   "execution_count": 32,
   "metadata": {},
   "outputs": [
    {
     "name": "stdout",
     "output_type": "stream",
     "text": [
      "6\n",
      "/Users/lucrezia/Desktop/StarDistData/ELISA/project9_classification_of_neuronal_types/masks/complete_masks/manually_corrected/fish2_nasal_15-75z_corrected.tif\n"
     ]
    }
   ],
   "source": [
    "path_mask = 'your/pathname/for/the/masks'\n",
    "\n",
    "files = sorted(glob(path_mask+'/*.tif'))\n",
    "print(len(files))\n",
    "print(files[0])"
   ]
  },
  {
   "cell_type": "code",
   "execution_count": 33,
   "metadata": {},
   "outputs": [
    {
     "name": "stdout",
     "output_type": "stream",
     "text": [
      "/Users/lucrezia/Desktop/StarDistData/ELISA/project9_classification_of_neuronal_types/masks/complete_masks/manually_corrected/labels/fish2_nasal_15-75z_corrected.csv\n",
      "6\n"
     ]
    }
   ],
   "source": [
    "labels = sorted(glob(path_mask+'/labels/*.csv'))\n",
    "print(labels[0])\n",
    "masks = list(map(imread, files))\n",
    "print(len(labels))"
   ]
  },
  {
   "cell_type": "code",
   "execution_count": 7,
   "metadata": {},
   "outputs": [
    {
     "data": {
      "image/png": "[encoded data removed]",
      "text/plain": [
       "<Figure size 432x288 with 1 Axes>"
      ]
     },
     "metadata": {
      "needs_background": "light"
     },
     "output_type": "display_data"
    }
   ],
   "source": [
    "plt.imshow(masks[0][10])\n",
    "plt.show()"
   ]
  },
  {
   "cell_type": "code",
   "execution_count": 10,
   "metadata": {},
   "outputs": [
    {
     "name": "stdout",
     "output_type": "stream",
     "text": [
      "   Unnamed: 0  label class\n",
      "0           0     26   RGC\n",
      "1           1     33   NaN\n",
      "2           2     34   RGC\n",
      "3           3     38   RGC\n",
      "4           4     40   RGC\n"
     ]
    }
   ],
   "source": [
    "df = pd.read_csv(labels[0], sep=';')\n",
    "print(df.head())"
   ]
  },
  {
   "cell_type": "code",
   "execution_count": 19,
   "metadata": {},
   "outputs": [
    {
     "name": "stdout",
     "output_type": "stream",
     "text": [
      "[1, 8, 1, 1, 1, 1, 1, 1, 1, 1, 1, 1, 1, 1, 1, 1, 1, 1, 1, 1, 1, 1, 1, 1, 4, 1, 1, 1, 1, 1, 1, 1, 1, 1, 1, 1, 1, 1, 1, 1, 1, 1, 1, 1, 1, 1, 1, 1, 1, 1, 1, 1, 1, 1, 1, 1, 1, 1, 1, 1, 1, 1, 1, 1, 1, 1, 1, 1, 4, 1, 1, 1, 1, 1, 1, 1, 1, 1, 1, 4, 1, 1, 1, 1, 1, 1, 1, 1, 1, 1, 1, 1, 1, 1, 1, 1, 1, 1, 1, 1, 1, 1, 1, 1, 4, 1, 1, 1, 1, 1, 4, 1, 1, 1, 1, 1, 4, 1, 6, 8, 1, 1, 1, 1, 4, 1, 4, 6, 6, 4, 1, 1, 6, 1, 4, 6, 1, 8, 1, 4, 1, 8, 1, 1, 6, 6, 1, 1, 4, 1, 1, 1, 1, 1, 1, 6, 6, 6]\n",
      "0      1\n",
      "1      8\n",
      "2      1\n",
      "3      1\n",
      "4      1\n",
      "      ..\n",
      "153    1\n",
      "154    1\n",
      "155    6\n",
      "156    6\n",
      "157    6\n",
      "Name: class, Length: 158, dtype: int64\n"
     ]
    }
   ],
   "source": [
    "classes = {'RGC': 1, 'BC': 2, 'PR': 3, 'AC': 4, 'HC': 5, 'LENS': 6, 'RPE': 7, np.nan : 8}\n",
    "\n",
    "new_classes = []\n",
    "for el in (df['class']):\n",
    "    new_classes.append(classes[el])\n",
    "\n",
    "print(new_classes)\n",
    "\n",
    "converted_classes = df['class'].map(classes)\n",
    "print(converted_classes)"
   ]
  },
  {
   "cell_type": "code",
   "execution_count": 28,
   "metadata": {},
   "outputs": [
    {
     "name": "stdout",
     "output_type": "stream",
     "text": [
      "{26: 1, 33: 8, 34: 1, 38: 1, 40: 1, 51: 1, 68: 1, 120: 1, 134: 1, 143: 1, 172: 1, 176: 1, 184: 1, 206: 1, 218: 1, 225: 1, 233: 1, 235: 1, 238: 1, 240: 1, 242: 1, 255: 1, 258: 1, 275: 1, 296: 4, 299: 1, 305: 1, 307: 1, 373: 1, 405: 1, 427: 1, 462: 1, 467: 1, 484: 1, 504: 1, 517: 1, 522: 1, 527: 1, 550: 1, 554: 1, 578: 1, 618: 1, 644: 1, 652: 1, 666: 1, 683: 1, 694: 1, 711: 1, 768: 1, 774: 1, 794: 1, 797: 1, 805: 1, 809: 1, 815: 1, 849: 1, 860: 1, 894: 1, 895: 1, 904: 1, 911: 1, 917: 1, 924: 1, 960: 1, 981: 1, 984: 1, 1042: 1, 1077: 1, 1125: 4, 1160: 1, 1170: 1, 1176: 1, 1180: 1, 1194: 1, 1241: 1, 1253: 1, 1305: 1, 1331: 1, 1337: 1, 1358: 4, 1367: 1, 1374: 1, 1407: 1, 1439: 1, 1531: 1, 1553: 1, 1559: 1, 1567: 1, 1579: 1, 1624: 1, 1646: 1, 1676: 1, 1678: 1, 1699: 1, 1725: 1, 1746: 1, 1762: 1, 1783: 1, 1787: 1, 1788: 1, 1819: 1, 1820: 1, 1825: 1, 1836: 1, 1845: 4, 1856: 1, 1906: 1, 1957: 1, 1967: 1, 1968: 1, 2060: 4, 2084: 1, 2125: 1, 2185: 1, 2195: 1, 2229: 1, 2363: 4, 2508: 1, 2577: 6, 2585: 8, 2620: 1, 2678: 1, 2842: 1, 2872: 1, 2911: 4, 3090: 1, 3151: 4, 3253: 6, 3268: 6, 3296: 4, 3342: 1, 3351: 1, 3408: 6, 3409: 1, 3488: 4, 3558: 6, 3562: 1, 3572: 8, 3590: 1, 3594: 4, 3729: 1, 3818: 8, 3819: 1, 3940: 1, 4031: 6, 4036: 6, 4037: 1, 4038: 1, 4039: 4, 4040: 1, 4041: 1, 4042: 1, 4043: 1, 4044: 1, 4045: 1, 4046: 6, 4047: 6, 4048: 6, 0: 0}\n"
     ]
    }
   ],
   "source": [
    "ids = {k:v for k,v in zip(df['label'], converted_classes)}\n",
    "ids[0] = 0\n",
    "print(ids)"
   ]
  },
  {
   "cell_type": "code",
   "execution_count": 29,
   "metadata": {},
   "outputs": [
    {
     "name": "stdout",
     "output_type": "stream",
     "text": [
      "158 159\n"
     ]
    }
   ],
   "source": [
    "print(len(df), len(ids))"
   ]
  },
  {
   "cell_type": "code",
   "execution_count": 35,
   "metadata": {},
   "outputs": [
    {
     "name": "stdout",
     "output_type": "stream",
     "text": [
      "[652 652 652 ...   0   0   0]\n"
     ]
    },
    {
     "name": "stderr",
     "output_type": "stream",
     "text": [
      "IOPub data rate exceeded.\n",
      "The notebook server will temporarily stop sending output\n",
      "to the client in order to avoid crashing it.\n",
      "To change this limit, set the config variable\n",
      "`--NotebookApp.iopub_data_rate_limit`.\n",
      "\n",
      "Current values:\n",
      "NotebookApp.iopub_data_rate_limit=1000000.0 (bytes/sec)\n",
      "NotebookApp.rate_limit_window=3.0 (secs)\n",
      "\n"
     ]
    }
   ],
   "source": [
    "mask = masks[0]\n",
    "m = mask.flatten()\n",
    "print(m)\n",
    "new_mask = []\n",
    "for i in range(len(m)):\n",
    "    if m[i] not in ids:\n",
    "        new_mask.append(8)\n",
    "    else:\n",
    "        new_mask.append(ids[m[i]])\n",
    "    \n",
    "print(new_mask)"
   ]
  },
  {
   "cell_type": "code",
   "execution_count": 43,
   "metadata": {},
   "outputs": [
    {
     "name": "stdout",
     "output_type": "stream",
     "text": [
      "(61, 330, 300)\n",
      "(61, 330, 300)\n"
     ]
    }
   ],
   "source": [
    "print(masks[0].shape)\n",
    "\n",
    "new_mask = np.asarray(new_mask)\n",
    "new_mask = np.reshape(new_mask, masks[0].shape)\n",
    "print(new_mask.shape)"
   ]
  },
  {
   "cell_type": "code",
   "execution_count": 44,
   "metadata": {},
   "outputs": [
    {
     "data": {
      "image/png": "[encoded data removed]",
      "text/plain": [
       "<Figure size 432x288 with 1 Axes>"
      ]
     },
     "metadata": {
      "needs_background": "light"
     },
     "output_type": "display_data"
    }
   ],
   "source": [
    "plt.imshow(new_mask[10])\n",
    "plt.show()"
   ]
  },
  {
   "cell_type": "code",
   "execution_count": 45,
   "metadata": {},
   "outputs": [],
   "source": [
    "import napari\n",
    "\n",
    "viewer = napari.view_image(new_mask)\n"
   ]
  },
  {
   "cell_type": "code",
   "execution_count": 62,
   "metadata": {},
   "outputs": [],
   "source": [
    "viewer = napari.view_labels(new_mask, scale=(2, 1, 1))"
   ]
  },
  {
   "cell_type": "code",
   "execution_count": 54,
   "metadata": {},
   "outputs": [],
   "source": [
    "# sava data as json file\n",
    "import json\n",
    "with open(path_mask+'/labels/'+os.path.basename(labels[0])[:-3]+'json', 'w') as fp:\n",
    "    json_ids = json.dump(ids, fp)\n",
    "    "
   ]
  },
  {
   "cell_type": "code",
   "execution_count": 55,
   "metadata": {},
   "outputs": [
    {
     "name": "stdout",
     "output_type": "stream",
     "text": [
      "README.md           Visualization.ipynb \u001b[30m\u001b[43mimages\u001b[m\u001b[m              \u001b[34mmasks\u001b[m\u001b[m\r\n"
     ]
    }
   ],
   "source": [
    "!ls\n"
   ]
  },
  {
   "cell_type": "code",
   "execution_count": 56,
   "metadata": {},
   "outputs": [],
   "source": [
    "!cd masks\n"
   ]
  },
  {
   "cell_type": "code",
   "execution_count": 60,
   "metadata": {},
   "outputs": [
    {
     "data": {
      "text/plain": [
       "'/Users/lucrezia/Desktop/StarDistData/ELISA/project9_classification_of_neuronal_types/masks/complete_masks/manually_corrected'"
      ]
     },
     "execution_count": 60,
     "metadata": {},
     "output_type": "execute_result"
    }
   ],
   "source": [
    "path_mask"
   ]
  },
  {
   "cell_type": "code",
   "execution_count": 61,
   "metadata": {},
   "outputs": [
    {
     "name": "stdout",
     "output_type": "stream",
     "text": [
      "fish2_nasal_15-75z_corrected.csv    fish2_temporal_10-70z_corrected.csv\r\n",
      "fish2_nasal_15-75z_corrected.json   fish2_temporal_20-81z_corrected.csv\r\n",
      "fish2_nasal_20-80z_corrected.csv    fish2_temporal_5-65z_corrected.csv\r\n",
      "fish2_nasal_25-85z_corrected.csv\r\n"
     ]
    }
   ],
   "source": [
    "!ls /Users/lucrezia/Desktop/StarDistData/ELISA/project9_classification_of_neuronal_types/masks/complete_masks/manually_corrected/labels/"
   ]
  },
  {
   "cell_type": "code",
   "execution_count": null,
   "metadata": {},
   "outputs": [],
   "source": []
  }
 ],
 "metadata": {
  "kernelspec": {
   "display_name": "Python 3.7.5 64-bit",
   "language": "python",
   "name": "python37564bit7cf65b1386b1406b85b223a6d1e0bbd3"
  },
  "language_info": {
   "codemirror_mode": {
    "name": "ipython",
    "version": 3
   },
   "file_extension": ".py",
   "mimetype": "text/x-python",
   "name": "python",
   "nbconvert_exporter": "python",
   "pygments_lexer": "ipython3",
   "version": "3.7.5"
  }
 },
 "nbformat": 4,
 "nbformat_minor": 2
}
