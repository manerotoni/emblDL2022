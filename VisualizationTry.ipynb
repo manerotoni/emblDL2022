{
 "cells": [
  {
   "cell_type": "code",
   "execution_count": 6,
   "metadata": {},
   "outputs": [],
   "source": [
    "import os\n",
    "import numpy as np\n",
    "import pandas as pd\n",
    "import matplotlib.pyplot as plt\n",
    "from glob import glob\n",
    "from tifffile import imread, imsave"
   ]
  },
  {
   "cell_type": "code",
   "execution_count": 7,
   "metadata": {},
   "outputs": [
    {
     "name": "stdout",
     "output_type": "stream",
     "text": [
      "6\n",
      "data/masks/fish2_nasal_15-75z.tif\n"
     ]
    }
   ],
   "source": [
    "\n",
    "files = sorted(glob('data/masks/*.tif'))\n",
    "print(len(files))\n",
    "print(files[0])"
   ]
  },
  {
   "cell_type": "code",
   "execution_count": 8,
   "metadata": {},
   "outputs": [
    {
     "name": "stdout",
     "output_type": "stream",
     "text": [
      "/home/10ffad6bce703bf5/dl-course-2022/project9_classification_of_neuronal_types/masks/complete_masks/manually_corrected/labels/fish2_nasal_15-75z_corrected.csv\n",
      "6\n"
     ]
    }
   ],
   "source": [
    "labels = sorted(glob(path_mask+'/labels/*.csv'))\n",
    "print(labels[0])\n",
    "masks = list(map(imread, files))\n",
    "print(len(labels))"
   ]
  },
  {
   "cell_type": "code",
   "execution_count": 9,
   "metadata": {},
   "outputs": [
    {
     "data": {
      "image/png": "[encoded data removed]",
      "text/plain": [
       "<Figure size 432x288 with 1 Axes>"
      ]
     },
     "metadata": {
      "needs_background": "light"
     },
     "output_type": "display_data"
    }
   ],
   "source": [
    "plt.imshow(masks[1][10])\n",
    "plt.show()"
   ]
  },
  {
   "cell_type": "code",
   "execution_count": 13,
   "metadata": {},
   "outputs": [
    {
     "name": "stdout",
     "output_type": "stream",
     "text": [
      "   Unnamed: 0  label class\n",
      "0           0      6    BC\n",
      "1           1     15    BC\n",
      "2           2     23    BC\n",
      "3           3     55    BC\n",
      "4           4     56    AC\n",
      "226\n"
     ]
    }
   ],
   "source": [
    "df = pd.read_csv(labels[1], sep=';')\n",
    "print(df.head())\n",
    "print(len(df))"
   ]
  },
  {
   "cell_type": "code",
   "execution_count": 18,
   "metadata": {},
   "outputs": [
    {
     "name": "stdout",
     "output_type": "stream",
     "text": [
      "2282 2277\n",
      "2292 2282\n",
      "2300 2292\n",
      "2325 2300\n",
      "2342 2325\n",
      "2353 2342\n",
      "2375 2353\n",
      "2398 2375\n",
      "2400 2398\n",
      "2409 2400\n",
      "2461 2409\n",
      "2477 2461\n",
      "2478 2477\n",
      "2500 2478\n",
      "2533 2499\n",
      "2574 2500\n",
      "2582 2533\n",
      "2618 2574\n",
      "2739 2582\n",
      "2786 2618\n",
      "2807 2739\n",
      "2838 2786\n",
      "2891 2807\n",
      "2899 2838\n",
      "2900 2891\n",
      "2945 2899\n",
      "2959 2900\n",
      "3024 2945\n",
      "3065 2959\n",
      "3071 3024\n",
      "3089 3065\n",
      "3112 3071\n",
      "3126 3089\n",
      "3130 3112\n",
      "3176 3126\n",
      "3185 3130\n",
      "3224 3176\n",
      "3248 3185\n",
      "3311 3224\n",
      "3336 3248\n",
      "3426 3311\n",
      "3466 3336\n",
      "3542 3426\n",
      "3577 3466\n",
      "3650 3542\n",
      "3669 3577\n",
      "3814 3650\n",
      "3826 3669\n",
      "3991 3814\n",
      "4051 3826\n"
     ]
    }
   ],
   "source": [
    "ids_mask = sorted(np.unique(masks[1]))[1:]\n",
    "ids_labels = df['label']\n",
    "\n",
    "for i in range(len(ids_mask)):\n",
    "    if ids_mask[i] != ids_labels[i]:\n",
    "        print(ids_mask[i], ids_labels[i])"
   ]
  },
  {
   "cell_type": "code",
   "execution_count": null,
   "metadata": {},
   "outputs": [],
   "source": [
    "classes = {'RGC': 1, 'BC': 2, 'PR': 3, 'AC': 4, 'HC': 5, 'LENS': 6, 'RPE': 7, np.nan : 8}\n",
    "\n",
    "converted_classes = df['class'].map(classes)\n",
    "print(converted_classes)"
   ]
  },
  {
   "cell_type": "code",
   "execution_count": null,
   "metadata": {},
   "outputs": [],
   "source": [
    "ids = {k:v for k,v in zip(df['label'], converted_classes)}\n",
    "ids[0] = 0\n",
    "print(ids)"
   ]
  },
  {
   "cell_type": "code",
   "execution_count": null,
   "metadata": {},
   "outputs": [],
   "source": [
    "print(len(df), len(ids))"
   ]
  },
  {
   "cell_type": "code",
   "execution_count": null,
   "metadata": {},
   "outputs": [],
   "source": [
    "mask = masks[0]\n",
    "m = mask.flatten()\n",
    "print(m)\n",
    "new_mask = []\n",
    "for i in range(len(m)):\n",
    "    if m[i] not in ids:\n",
    "        new_mask.append(8)\n",
    "    else:\n",
    "        new_mask.append(ids[m[i]])\n",
    "    \n",
    "print(new_mask)"
   ]
  },
  {
   "cell_type": "code",
   "execution_count": null,
   "metadata": {},
   "outputs": [],
   "source": [
    "print(masks[0].shape)\n",
    "\n",
    "new_mask = np.asarray(new_mask)\n",
    "new_mask = np.reshape(new_mask, masks[0].shape)\n",
    "print(new_mask.shape)"
   ]
  },
  {
   "cell_type": "code",
   "execution_count": null,
   "metadata": {},
   "outputs": [],
   "source": [
    "plt.imshow(new_mask[10])\n",
    "plt.show()"
   ]
  },
  {
   "cell_type": "code",
   "execution_count": null,
   "metadata": {},
   "outputs": [],
   "source": [
    "import napari\n",
    "\n",
    "viewer = napari.view_image(new_mask)\n"
   ]
  },
  {
   "cell_type": "code",
   "execution_count": null,
   "metadata": {},
   "outputs": [],
   "source": [
    "viewer = napari.view_labels(new_mask, scale=(2, 1, 1))"
   ]
  },
  {
   "cell_type": "code",
   "execution_count": null,
   "metadata": {},
   "outputs": [],
   "source": [
    "# sava data as json file\n",
    "import json\n",
    "with open(path_mask+'/labels/'+os.path.basename(labels[0])[:-3]+'json', 'w') as fp:\n",
    "    json_ids = json.dump(ids, fp)\n",
    "    "
   ]
  },
  {
   "cell_type": "code",
   "execution_count": null,
   "metadata": {},
   "outputs": [],
   "source": [
    "!ls\n"
   ]
  },
  {
   "cell_type": "code",
   "execution_count": null,
   "metadata": {},
   "outputs": [],
   "source": [
    "!cd masks\n"
   ]
  },
  {
   "cell_type": "code",
   "execution_count": null,
   "metadata": {},
   "outputs": [],
   "source": [
    "path_mask"
   ]
  },
  {
   "cell_type": "code",
   "execution_count": null,
   "metadata": {},
   "outputs": [],
   "source": [
    "!ls /Users/lucrezia/Desktop/StarDistData/ELISA/project9_classification_of_neuronal_types/masks/complete_masks/manually_corrected/labels/"
   ]
  },
  {
   "cell_type": "code",
   "execution_count": null,
   "metadata": {},
   "outputs": [],
   "source": []
  }
 ],
 "metadata": {
  "kernelspec": {
   "display_name": "DL for Image Analysis 2022 (Keras)",
   "language": "python",
   "name": "dl-mw-py39"
  },
  "language_info": {
   "codemirror_mode": {
    "name": "ipython",
    "version": 3
   },
   "file_extension": ".py",
   "mimetype": "text/x-python",
   "name": "python",
   "nbconvert_exporter": "python",
   "pygments_lexer": "ipython3",
   "version": "3.9.7"
  }
 },
 "nbformat": 4,
 "nbformat_minor": 4
}
