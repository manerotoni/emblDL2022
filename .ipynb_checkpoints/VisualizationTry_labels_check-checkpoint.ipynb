{
 "cells": [
  {
   "cell_type": "code",
   "execution_count": 1,
   "metadata": {},
   "outputs": [],
   "source": [
    "import os\n",
    "import numpy as np\n",
    "import pandas as pd\n",
    "import matplotlib.pyplot as plt\n",
    "from glob import glob\n",
    "from tifffile import imread, imsave\n",
    "import json"
   ]
  },
  {
   "cell_type": "code",
   "execution_count": 2,
   "metadata": {},
   "outputs": [],
   "source": [
    "pathname = 'data/masks'\n",
    "files = sorted(glob('data/masks/*.tif'))\n",
    "\n",
    "labels = sorted(glob('data/labels/*.json'))\n",
    "C = []\n",
    "for el in labels:\n",
    "    with open(el, 'r') as fp:\n",
    "        C.append(json.load(fp))"
   ]
  },
  {
   "cell_type": "code",
   "execution_count": 3,
   "metadata": {},
   "outputs": [
    {
     "name": "stdout",
     "output_type": "stream",
     "text": [
      "<class 'numpy.ndarray'> 160\n"
     ]
    }
   ],
   "source": [
    "masks = list(map(imread, files))\n",
    "mask_labels = [np.unique(masks[i]) for i in range(len(masks))]\n",
    "print(type(mask_labels[0]), len(mask_labels[0]))"
   ]
  },
  {
   "cell_type": "code",
   "execution_count": 4,
   "metadata": {},
   "outputs": [
    {
     "name": "stdout",
     "output_type": "stream",
     "text": [
      "6\n"
     ]
    }
   ],
   "source": [
    "print(len(C))"
   ]
  },
  {
   "cell_type": "code",
   "execution_count": 5,
   "metadata": {},
   "outputs": [
    {
     "name": "stdout",
     "output_type": "stream",
     "text": [
      "Processing file  data/masks/fish2_nasal_15-75z.tif\n",
      "set()\n",
      "set()\n",
      "Processing file  data/masks/fish2_nasal_20-80z.tif\n",
      "{'2499', '2277'}\n",
      "set()\n",
      "227\n",
      "225\n",
      "Processing file  data/masks/fish2_nasal_25-85z.tif\n",
      "{'2028', '1485', '2599', '1667', '3031', '2893', '2488', '3584'}\n",
      "set()\n",
      "285\n",
      "277\n",
      "Processing file  data/masks/fish2_temporal_10-70z.tif\n",
      "{'3093', '3026', '3386', '4970', '4439', '3832', '3206', '507', '4967', '4011', '95', '1413', '4553', '5374', '3990', '2515', '4060', '1302', '4109'}\n",
      "set()\n",
      "317\n",
      "298\n",
      "Processing file  data/masks/fish2_temporal_20-81z.tif\n",
      "{'5587', '5558'}\n",
      "set()\n",
      "171\n",
      "169\n",
      "Processing file  data/masks/fish2_temporal_5-65z.tif\n",
      "set()\n",
      "set()\n"
     ]
    }
   ],
   "source": [
    "# check if all labels in the json files are present also in the masks. in this case we know that some labels\n",
    "# in the image are not present in the json. We eliminate them from the mask cause they were classified as NaN\n",
    "for i in range(6):\n",
    "    print(\"Processing file \", files[i])\n",
    "    ids_labels = set(C[i].keys())\n",
    "    ids_mask = set(str(el) for el in mask_labels[i])\n",
    "    \n",
    "    ids_labels = set(ids_labels)\n",
    "    ids_mask = set(ids_mask)\n",
    "    print(ids_labels - ids_mask)\n",
    "    print(ids_mask - ids_labels)\n",
    "    labels_to_eliminate_from_mask = ids_mask - ids_labels\n",
    "    labels_to_eliminate_from_json = ids_labels - ids_mask\n",
    "    \n",
    "    if len(labels_to_eliminate_from_mask) > 0:\n",
    "        for el in labels_to_eliminate_from_mask:\n",
    "            masks[i] = np.where(masks[i] ==int(el), 0, masks[i])\n",
    "            \n",
    "    if len(labels_to_eliminate_from_json) > 0:\n",
    "        print(len(C[i]))\n",
    "        for el in labels_to_eliminate_from_json:\n",
    "            C[i].pop(el) \n",
    "        print(len(C[i]))\n",
    "        with open('data/labels/checked/'+os.path.basename(files[i])[:-3]+'json', 'w') as fp:\n",
    "            json_ids = json.dump(C[i], fp)\n",
    "        \n",
    "    \n",
    "    \n",
    "    filename = pathname+'/checked/'+os.path.basename(files[i])\n",
    "    imsave(filename, masks[i])\n",
    "    \n",
    "  "
   ]
  },
  {
   "cell_type": "code",
   "execution_count": 6,
   "metadata": {},
   "outputs": [
    {
     "name": "stdout",
     "output_type": "stream",
     "text": [
      "Processing file  data/masks/fish2_nasal_15-75z.tif\n",
      "set()\n",
      "set()\n",
      "Processing file  data/masks/fish2_nasal_20-80z.tif\n",
      "set()\n",
      "set()\n",
      "Processing file  data/masks/fish2_nasal_25-85z.tif\n",
      "set()\n",
      "set()\n",
      "Processing file  data/masks/fish2_temporal_10-70z.tif\n",
      "set()\n",
      "set()\n",
      "Processing file  data/masks/fish2_temporal_20-81z.tif\n",
      "set()\n",
      "set()\n",
      "Processing file  data/masks/fish2_temporal_5-65z.tif\n",
      "set()\n",
      "set()\n"
     ]
    }
   ],
   "source": [
    "# check if new masks correspond to \n",
    "new_masks = sorted(glob(pathname+'/checked/*.tif'))\n",
    "new_masks = list(map(imread, new_masks))\n",
    "new_mask_labels = [np.unique(new_masks[i]) for i in range(len(new_masks))]\n",
    "\n",
    "new_labels = sorted(glob('data/labels/checked/*.json'))\n",
    "CC = []\n",
    "for el in new_labels:\n",
    "    with open(el, 'r') as fp:\n",
    "        CC.append(json.load(fp))\n",
    "\n",
    "for i in range(6):\n",
    "    print(\"Processing file \", files[i])\n",
    "    ids_new_labels = set(CC[i].keys())\n",
    "    ids_new_mask = set(str(el) for el in new_mask_labels[i])\n",
    "    \n",
    "    ids_new_labels = set(ids_new_labels)\n",
    "    ids_new_mask = set(ids_new_mask)\n",
    "    print(ids_new_labels - ids_new_mask)\n",
    "    print(ids_new_mask - ids_new_labels)\n",
    "   "
   ]
  },
  {
   "cell_type": "code",
   "execution_count": 18,
   "metadata": {},
   "outputs": [
    {
     "name": "stdout",
     "output_type": "stream",
     "text": [
      "2282 2277\n",
      "2292 2282\n",
      "2300 2292\n",
      "2325 2300\n",
      "2342 2325\n",
      "2353 2342\n",
      "2375 2353\n",
      "2398 2375\n",
      "2400 2398\n",
      "2409 2400\n",
      "2461 2409\n",
      "2477 2461\n",
      "2478 2477\n",
      "2500 2478\n",
      "2533 2499\n",
      "2574 2500\n",
      "2582 2533\n",
      "2618 2574\n",
      "2739 2582\n",
      "2786 2618\n",
      "2807 2739\n",
      "2838 2786\n",
      "2891 2807\n",
      "2899 2838\n",
      "2900 2891\n",
      "2945 2899\n",
      "2959 2900\n",
      "3024 2945\n",
      "3065 2959\n",
      "3071 3024\n",
      "3089 3065\n",
      "3112 3071\n",
      "3126 3089\n",
      "3130 3112\n",
      "3176 3126\n",
      "3185 3130\n",
      "3224 3176\n",
      "3248 3185\n",
      "3311 3224\n",
      "3336 3248\n",
      "3426 3311\n",
      "3466 3336\n",
      "3542 3426\n",
      "3577 3466\n",
      "3650 3542\n",
      "3669 3577\n",
      "3814 3650\n",
      "3826 3669\n",
      "3991 3814\n",
      "4051 3826\n"
     ]
    }
   ],
   "source": [
    "ids_mask = sorted(np.unique(masks[1]))[1:]\n",
    "ids_labels = df['label']\n",
    "\n",
    "for i in range(len(ids_mask)):\n",
    "    if ids_mask[i] != ids_labels[i]:\n",
    "        print(ids_mask[i], ids_labels[i])"
   ]
  },
  {
   "cell_type": "code",
   "execution_count": null,
   "metadata": {},
   "outputs": [],
   "source": [
    "classes = {'RGC': 1, 'BC': 2, 'PR': 3, 'AC': 4, 'HC': 5, 'LENS': 6, 'RPE': 7, np.nan : 8}\n",
    "\n",
    "converted_classes = df['class'].map(classes)\n",
    "print(converted_classes)"
   ]
  },
  {
   "cell_type": "code",
   "execution_count": null,
   "metadata": {},
   "outputs": [],
   "source": [
    "ids = {k:v for k,v in zip(df['label'], converted_classes)}\n",
    "ids[0] = 0\n",
    "print(ids)"
   ]
  },
  {
   "cell_type": "code",
   "execution_count": null,
   "metadata": {},
   "outputs": [],
   "source": [
    "print(len(df), len(ids))"
   ]
  },
  {
   "cell_type": "code",
   "execution_count": null,
   "metadata": {},
   "outputs": [],
   "source": [
    "mask = masks[0]\n",
    "m = mask.flatten()\n",
    "print(m)\n",
    "new_mask = []\n",
    "for i in range(len(m)):\n",
    "    if m[i] not in ids:\n",
    "        new_mask.append(8)\n",
    "    else:\n",
    "        new_mask.append(ids[m[i]])\n",
    "    \n",
    "print(new_mask)"
   ]
  },
  {
   "cell_type": "code",
   "execution_count": null,
   "metadata": {},
   "outputs": [],
   "source": [
    "print(masks[0].shape)\n",
    "\n",
    "new_mask = np.asarray(new_mask)\n",
    "new_mask = np.reshape(new_mask, masks[0].shape)\n",
    "print(new_mask.shape)"
   ]
  },
  {
   "cell_type": "code",
   "execution_count": null,
   "metadata": {},
   "outputs": [],
   "source": [
    "plt.imshow(new_mask[10])\n",
    "plt.show()"
   ]
  },
  {
   "cell_type": "code",
   "execution_count": null,
   "metadata": {},
   "outputs": [],
   "source": [
    "import napari\n",
    "\n",
    "viewer = napari.view_image(new_mask)\n"
   ]
  },
  {
   "cell_type": "code",
   "execution_count": null,
   "metadata": {},
   "outputs": [],
   "source": [
    "viewer = napari.view_labels(new_mask, scale=(2, 1, 1))"
   ]
  },
  {
   "cell_type": "code",
   "execution_count": null,
   "metadata": {},
   "outputs": [],
   "source": [
    "# sava data as json file\n",
    "import json\n",
    "with open(path_mask+'/labels/'+os.path.basename(labels[0])[:-3]+'json', 'w') as fp:\n",
    "    json_ids = json.dump(ids, fp)\n",
    "    "
   ]
  },
  {
   "cell_type": "code",
   "execution_count": null,
   "metadata": {},
   "outputs": [],
   "source": [
    "!ls\n"
   ]
  },
  {
   "cell_type": "code",
   "execution_count": null,
   "metadata": {},
   "outputs": [],
   "source": [
    "!cd masks\n"
   ]
  },
  {
   "cell_type": "code",
   "execution_count": null,
   "metadata": {},
   "outputs": [],
   "source": [
    "path_mask"
   ]
  },
  {
   "cell_type": "code",
   "execution_count": null,
   "metadata": {},
   "outputs": [],
   "source": [
    "!ls /Users/lucrezia/Desktop/StarDistData/ELISA/project9_classification_of_neuronal_types/masks/complete_masks/manually_corrected/labels/"
   ]
  },
  {
   "cell_type": "code",
   "execution_count": null,
   "metadata": {},
   "outputs": [],
   "source": []
  }
 ],
 "metadata": {
  "kernelspec": {
   "display_name": "DL for Image Analysis 2022 (Keras)",
   "language": "python",
   "name": "dl-mw-py39"
  },
  "language_info": {
   "codemirror_mode": {
    "name": "ipython",
    "version": 3
   },
   "file_extension": ".py",
   "mimetype": "text/x-python",
   "name": "python",
   "nbconvert_exporter": "python",
   "pygments_lexer": "ipython3",
   "version": "3.9.7"
  }
 },
 "nbformat": 4,
 "nbformat_minor": 4
}
