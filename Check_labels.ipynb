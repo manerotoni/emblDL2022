{
 "cells": [
  {
   "cell_type": "code",
   "execution_count": 1,
   "metadata": {},
   "outputs": [],
   "source": [
    "import os\n",
    "import numpy as np\n",
    "import pandas as pd\n",
    "import matplotlib.pyplot as plt\n",
    "from glob import glob\n",
    "from tifffile import imread, imsave\n",
    "import json"
   ]
  },
  {
   "cell_type": "code",
   "execution_count": 2,
   "metadata": {},
   "outputs": [],
   "source": [
    "pathname = 'data/masks'\n",
    "files = sorted(glob('data/masks/*.tif'))\n",
    "\n",
    "labels = sorted(glob('data/labels/*.json'))\n",
    "C = []\n",
    "for el in labels:\n",
    "    with open(el, 'r') as fp:\n",
    "        C.append(json.load(fp))"
   ]
  },
  {
   "cell_type": "code",
   "execution_count": 3,
   "metadata": {},
   "outputs": [
    {
     "name": "stdout",
     "output_type": "stream",
     "text": [
      "<class 'numpy.ndarray'> 160\n"
     ]
    }
   ],
   "source": [
    "masks = list(map(imread, files))\n",
    "mask_labels = [np.unique(masks[i]) for i in range(len(masks))]\n",
    "print(type(mask_labels[0]), len(mask_labels[0]))"
   ]
  },
  {
   "cell_type": "code",
   "execution_count": 4,
   "metadata": {},
   "outputs": [
    {
     "name": "stdout",
     "output_type": "stream",
     "text": [
      "6\n"
     ]
    }
   ],
   "source": [
    "print(len(C))"
   ]
  },
  {
   "cell_type": "code",
   "execution_count": 5,
   "metadata": {},
   "outputs": [
    {
     "name": "stdout",
     "output_type": "stream",
     "text": [
      "Processing file  data/masks/fish2_nasal_15-75z.tif\n",
      "set()\n",
      "set()\n",
      "Processing file  data/masks/fish2_nasal_20-80z.tif\n",
      "{'2499', '2277'}\n",
      "set()\n",
      "227\n",
      "225\n",
      "Processing file  data/masks/fish2_nasal_25-85z.tif\n",
      "{'2028', '1485', '2599', '1667', '3031', '2893', '2488', '3584'}\n",
      "set()\n",
      "285\n",
      "277\n",
      "Processing file  data/masks/fish2_temporal_10-70z.tif\n",
      "{'3093', '3026', '3386', '4970', '4439', '3832', '3206', '507', '4967', '4011', '95', '1413', '4553', '5374', '3990', '2515', '4060', '1302', '4109'}\n",
      "set()\n",
      "317\n",
      "298\n",
      "Processing file  data/masks/fish2_temporal_20-81z.tif\n",
      "{'5587', '5558'}\n",
      "set()\n",
      "171\n",
      "169\n",
      "Processing file  data/masks/fish2_temporal_5-65z.tif\n",
      "set()\n",
      "set()\n"
     ]
    }
   ],
   "source": [
    "# check if all labels in the json files are present also in the masks. in this case we know that some labels\n",
    "# in the image are not present in the json. We eliminate them from the mask cause they were classified as NaN\n",
    "for i in range(6):\n",
    "    print(\"Processing file \", files[i])\n",
    "    ids_labels = set(C[i].keys())\n",
    "    ids_mask = set(str(el) for el in mask_labels[i])\n",
    "    \n",
    "    ids_labels = set(ids_labels)\n",
    "    ids_mask = set(ids_mask)\n",
    "    print(ids_labels - ids_mask)\n",
    "    print(ids_mask - ids_labels)\n",
    "    labels_to_eliminate_from_mask = ids_mask - ids_labels\n",
    "    labels_to_eliminate_from_json = ids_labels - ids_mask\n",
    "    \n",
    "    if len(labels_to_eliminate_from_mask) > 0:\n",
    "        for el in labels_to_eliminate_from_mask:\n",
    "            masks[i] = np.where(masks[i] ==int(el), 0, masks[i])\n",
    "            \n",
    "    if len(labels_to_eliminate_from_json) > 0:\n",
    "        print(len(C[i]))\n",
    "        for el in labels_to_eliminate_from_json:\n",
    "            C[i].pop(el) \n",
    "        print(len(C[i]))\n",
    "        with open('data/labels/checked/'+os.path.basename(files[i])[:-3]+'json', 'w') as fp:\n",
    "            json_ids = json.dump(C[i], fp)\n",
    "        \n",
    "    \n",
    "    \n",
    "    filename = pathname+'/checked/'+os.path.basename(files[i])\n",
    "    imsave(filename, masks[i])\n",
    "    \n",
    "  "
   ]
  },
  {
   "cell_type": "code",
   "execution_count": 6,
   "metadata": {},
   "outputs": [
    {
     "name": "stdout",
     "output_type": "stream",
     "text": [
      "Processing file  data/masks/fish2_nasal_15-75z.tif\n",
      "set()\n",
      "set()\n",
      "Processing file  data/masks/fish2_nasal_20-80z.tif\n",
      "set()\n",
      "set()\n",
      "Processing file  data/masks/fish2_nasal_25-85z.tif\n",
      "set()\n",
      "set()\n",
      "Processing file  data/masks/fish2_temporal_10-70z.tif\n",
      "set()\n",
      "set()\n",
      "Processing file  data/masks/fish2_temporal_20-81z.tif\n",
      "set()\n",
      "set()\n",
      "Processing file  data/masks/fish2_temporal_5-65z.tif\n",
      "set()\n",
      "set()\n"
     ]
    }
   ],
   "source": [
    "# check if new masks correspond to \n",
    "new_masks = sorted(glob(pathname+'/checked/*.tif'))\n",
    "new_masks = list(map(imread, new_masks))\n",
    "new_mask_labels = [np.unique(new_masks[i]) for i in range(len(new_masks))]\n",
    "\n",
    "new_labels = sorted(glob('data/labels/checked/*.json'))\n",
    "CC = []\n",
    "for el in new_labels:\n",
    "    with open(el, 'r') as fp:\n",
    "        CC.append(json.load(fp))\n",
    "\n",
    "for i in range(6):\n",
    "    print(\"Processing file \", files[i])\n",
    "    ids_new_labels = set(CC[i].keys())\n",
    "    ids_new_mask = set(str(el) for el in new_mask_labels[i])\n",
    "    \n",
    "    ids_new_labels = set(ids_new_labels)\n",
    "    ids_new_mask = set(ids_new_mask)\n",
    "    print(ids_new_labels - ids_new_mask)\n",
    "    print(ids_new_mask - ids_new_labels)\n",
    "   "
   ]
  },
  {
   "cell_type": "code",
   "execution_count": 9,
   "metadata": {},
   "outputs": [
    {
     "name": "stdout",
     "output_type": "stream",
     "text": [
      "6 6\n",
      "15 15\n",
      "23 23\n",
      "55 55\n",
      "56 56\n",
      "57 57\n",
      "65 65\n",
      "67 67\n",
      "74 74\n",
      "75 75\n",
      "80 80\n",
      "81 81\n",
      "91 91\n",
      "99 99\n",
      "107 107\n",
      "108 108\n",
      "114 114\n",
      "141 141\n",
      "157 157\n",
      "158 158\n",
      "162 162\n",
      "167 167\n",
      "173 173\n",
      "175 175\n",
      "177 177\n",
      "193 193\n",
      "202 202\n",
      "205 205\n",
      "236 236\n",
      "239 239\n",
      "241 241\n",
      "253 253\n",
      "257 257\n",
      "267 267\n",
      "282 282\n",
      "289 289\n",
      "295 295\n",
      "297 297\n",
      "318 318\n",
      "327 327\n",
      "363 363\n",
      "371 371\n",
      "374 374\n",
      "395 395\n",
      "406 406\n",
      "414 414\n",
      "417 417\n",
      "429 429\n",
      "459 459\n",
      "482 482\n",
      "524 524\n",
      "529 529\n",
      "539 539\n",
      "541 541\n",
      "559 559\n",
      "565 565\n",
      "583 583\n",
      "585 585\n",
      "588 588\n",
      "589 589\n",
      "614 614\n",
      "621 621\n",
      "655 655\n",
      "660 660\n",
      "686 686\n",
      "706 706\n",
      "719 719\n",
      "721 721\n",
      "725 725\n",
      "734 734\n",
      "740 740\n",
      "765 765\n",
      "779 779\n",
      "785 785\n",
      "788 788\n",
      "813 813\n",
      "830 830\n",
      "832 832\n",
      "839 839\n",
      "861 861\n",
      "868 868\n",
      "876 876\n",
      "883 883\n",
      "898 898\n",
      "908 908\n",
      "910 910\n",
      "949 949\n",
      "978 978\n",
      "979 979\n",
      "983 983\n",
      "999 999\n",
      "1004 1004\n",
      "1009 1009\n",
      "1013 1013\n",
      "1016 1016\n",
      "1027 1027\n",
      "1038 1038\n",
      "1050 1050\n",
      "1067 1067\n",
      "1091 1091\n",
      "1107 1107\n",
      "1114 1114\n",
      "1122 1122\n",
      "1137 1137\n",
      "1147 1147\n",
      "1149 1149\n",
      "1192 1192\n",
      "1216 1216\n",
      "1217 1217\n",
      "1227 1227\n",
      "1250 1250\n",
      "1283 1283\n",
      "1294 1294\n",
      "1298 1298\n",
      "1300 1300\n",
      "1312 1312\n",
      "1326 1326\n",
      "1351 1351\n",
      "1352 1352\n",
      "1363 1363\n",
      "1369 1369\n",
      "1382 1382\n",
      "1390 1390\n",
      "1405 1405\n",
      "1412 1412\n",
      "1419 1419\n",
      "1420 1420\n",
      "1438 1438\n",
      "1447 1447\n",
      "1454 1454\n",
      "1473 1473\n",
      "1476 1476\n",
      "1478 1478\n",
      "1513 1513\n",
      "1538 1538\n",
      "1555 1555\n",
      "1562 1562\n",
      "1615 1615\n",
      "1640 1640\n",
      "1641 1641\n",
      "1657 1657\n",
      "1659 1659\n",
      "1663 1663\n",
      "1665 1665\n",
      "1680 1680\n",
      "1728 1728\n",
      "1784 1784\n",
      "1805 1805\n",
      "1806 1806\n",
      "1842 1842\n",
      "1847 1847\n",
      "1848 1848\n",
      "1883 1883\n",
      "1953 1953\n",
      "1956 1956\n",
      "1984 1984\n",
      "2016 2016\n",
      "2034 2034\n",
      "2057 2057\n",
      "2077 2077\n",
      "2123 2123\n",
      "2129 2129\n",
      "2139 2139\n",
      "2140 2140\n",
      "2173 2173\n",
      "2174 2174\n",
      "2179 2179\n",
      "2213 2213\n",
      "2223 2223\n",
      "2226 2226\n",
      "2228 2228\n",
      "2236 2236\n",
      "2269 2269\n",
      "2275 2275\n",
      "2282 2282\n",
      "2292 2292\n",
      "2300 2300\n",
      "2325 2325\n",
      "2342 2342\n",
      "2353 2353\n",
      "2375 2375\n",
      "2398 2398\n",
      "2400 2400\n",
      "2409 2409\n",
      "2461 2461\n",
      "2477 2477\n",
      "2478 2478\n",
      "2500 2500\n",
      "2533 2533\n",
      "2574 2574\n",
      "2582 2582\n",
      "2618 2618\n",
      "2739 2739\n",
      "2786 2786\n",
      "2807 2807\n",
      "2838 2838\n",
      "2891 2891\n",
      "2899 2899\n",
      "2900 2900\n",
      "2945 2945\n",
      "2959 2959\n",
      "3024 3024\n",
      "3065 3065\n",
      "3071 3071\n",
      "3089 3089\n",
      "3112 3112\n",
      "3126 3126\n",
      "3130 3130\n",
      "3176 3176\n",
      "3185 3185\n",
      "3224 3224\n",
      "3248 3248\n",
      "3311 3311\n",
      "3336 3336\n",
      "3426 3426\n",
      "3466 3466\n",
      "3542 3542\n",
      "3577 3577\n",
      "3650 3650\n",
      "3669 3669\n",
      "3814 3814\n",
      "3826 3826\n",
      "3991 3991\n",
      "4051 4051\n"
     ]
    }
   ],
   "source": [
    "ids_mask = sorted(np.unique(masks[1]))[1:]\n",
    "ids_labels = list(C[1].keys())\n",
    "\n",
    "for i in range(len(ids_mask)):\n",
    "    if ids_mask[i] != ids_labels[i]:\n",
    "        print(ids_mask[i], ids_labels[i], type(ids_mask[i]), type(ids_mask[i] )"
   ]
  },
  {
   "cell_type": "code",
   "execution_count": null,
   "metadata": {},
   "outputs": [],
   "source": [
    "classes = {'RGC': 1, 'BC': 2, 'PR': 3, 'AC': 4, 'HC': 5, 'LENS': 6, 'RPE': 7, np.nan : 8}\n",
    "\n",
    "converted_classes = df['class'].map(classes)\n",
    "print(converted_classes)"
   ]
  },
  {
   "cell_type": "code",
   "execution_count": null,
   "metadata": {},
   "outputs": [],
   "source": [
    "ids = {k:v for k,v in zip(df['label'], converted_classes)}\n",
    "ids[0] = 0\n",
    "print(ids)"
   ]
  },
  {
   "cell_type": "code",
   "execution_count": null,
   "metadata": {},
   "outputs": [],
   "source": [
    "print(len(df), len(ids))"
   ]
  },
  {
   "cell_type": "code",
   "execution_count": null,
   "metadata": {},
   "outputs": [],
   "source": [
    "mask = masks[0]\n",
    "m = mask.flatten()\n",
    "print(m)\n",
    "new_mask = []\n",
    "for i in range(len(m)):\n",
    "    if m[i] not in ids:\n",
    "        new_mask.append(8)\n",
    "    else:\n",
    "        new_mask.append(ids[m[i]])\n",
    "    \n",
    "print(new_mask)"
   ]
  },
  {
   "cell_type": "code",
   "execution_count": null,
   "metadata": {},
   "outputs": [],
   "source": [
    "print(masks[0].shape)\n",
    "\n",
    "new_mask = np.asarray(new_mask)\n",
    "new_mask = np.reshape(new_mask, masks[0].shape)\n",
    "print(new_mask.shape)"
   ]
  },
  {
   "cell_type": "code",
   "execution_count": null,
   "metadata": {},
   "outputs": [],
   "source": [
    "plt.imshow(new_mask[10])\n",
    "plt.show()"
   ]
  },
  {
   "cell_type": "code",
   "execution_count": null,
   "metadata": {},
   "outputs": [],
   "source": [
    "import napari\n",
    "\n",
    "viewer = napari.view_image(new_mask)\n"
   ]
  },
  {
   "cell_type": "code",
   "execution_count": null,
   "metadata": {},
   "outputs": [],
   "source": [
    "viewer = napari.view_labels(new_mask, scale=(2, 1, 1))"
   ]
  },
  {
   "cell_type": "code",
   "execution_count": null,
   "metadata": {},
   "outputs": [],
   "source": [
    "# sava data as json file\n",
    "import json\n",
    "with open(path_mask+'/labels/'+os.path.basename(labels[0])[:-3]+'json', 'w') as fp:\n",
    "    json_ids = json.dump(ids, fp)\n",
    "    "
   ]
  },
  {
   "cell_type": "code",
   "execution_count": null,
   "metadata": {},
   "outputs": [],
   "source": [
    "!ls\n"
   ]
  },
  {
   "cell_type": "code",
   "execution_count": null,
   "metadata": {},
   "outputs": [],
   "source": [
    "!cd masks\n"
   ]
  },
  {
   "cell_type": "code",
   "execution_count": null,
   "metadata": {},
   "outputs": [],
   "source": [
    "path_mask"
   ]
  },
  {
   "cell_type": "code",
   "execution_count": null,
   "metadata": {},
   "outputs": [],
   "source": [
    "!ls /Users/lucrezia/Desktop/StarDistData/ELISA/project9_classification_of_neuronal_types/masks/complete_masks/manually_corrected/labels/"
   ]
  },
  {
   "cell_type": "code",
   "execution_count": null,
   "metadata": {},
   "outputs": [],
   "source": []
  }
 ],
 "metadata": {
  "kernelspec": {
   "display_name": "DL for Image Analysis 2022 (Keras)",
   "language": "python",
   "name": "dl-mw-py39"
  },
  "language_info": {
   "codemirror_mode": {
    "name": "ipython",
    "version": 3
   },
   "file_extension": ".py",
   "mimetype": "text/x-python",
   "name": "python",
   "nbconvert_exporter": "python",
   "pygments_lexer": "ipython3",
   "version": "3.9.7"
  }
 },
 "nbformat": 4,
 "nbformat_minor": 4
}
