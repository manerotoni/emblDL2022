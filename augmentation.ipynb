{
 "cells": [
  {
   "cell_type": "code",
   "execution_count": 2,
   "id": "0aaa5bec-dd1e-4d05-add1-1b33451df7b0",
   "metadata": {},
   "outputs": [
    {
     "name": "stdout",
     "output_type": "stream",
     "text": [
      "/bin/bash: /opt/conda/envs/dl-mw-py39/lib/libtinfo.so.6: no version information available (required by /bin/bash)\n",
      "Defaulting to user installation because normal site-packages is not writeable\n",
      "Collecting git+https://github.com/stardist/augmend.git\n",
      "  Cloning https://github.com/stardist/augmend.git to /tmp/pip-req-build-dgqagl17\n",
      "  Running command git clone --filter=blob:none -q https://github.com/stardist/augmend.git /tmp/pip-req-build-dgqagl17\n",
      "  Resolved https://github.com/stardist/augmend.git to commit dfa39539905ab8c6a9513fbbc9b28ebd5200a186\n",
      "  Preparing metadata (setup.py) ... \u001b[?25ldone\n",
      "\u001b[?25hBuilding wheels for collected packages: augmend\n",
      "  Building wheel for augmend (setup.py) ... \u001b[?25ldone\n",
      "\u001b[?25h  Created wheel for augmend: filename=augmend-0.1.0-py3-none-any.whl size=17334 sha256=fe9b190e5d60cc102889c9c12378573d6d0cd5f7be336474babc1068fa0a6785\n",
      "  Stored in directory: /tmp/pip-ephem-wheel-cache-i6mdchuo/wheels/73/be/07/f71b5dabf61eb0a9b8c5d0c6674fee59a087ca3d4228131d33\n",
      "Successfully built augmend\n",
      "Installing collected packages: augmend\n",
      "Successfully installed augmend-0.1.0\n",
      "Note: you may need to restart the kernel to use updated packages.\n"
     ]
    }
   ],
   "source": [
    "pip install git+https://github.com/stardist/augmend.git"
   ]
  },
  {
   "cell_type": "code",
   "execution_count": 1,
   "id": "af7d5381-aea6-4e47-91ae-4b273de540fa",
   "metadata": {},
   "outputs": [],
   "source": [
    "from augmend import Augmend           \n",
    "from augmend import Elastic, FlipRot90, AdditiveNoise\n",
    "\n",
    "# define augmentation pipeline\n",
    "aug = Augmend()\n",
    "\n",
    "# define transforms\n",
    "aug.add(FlipRot90(axis = (0,1)), probability=1)\n",
    "aug.add(Elastic(axis = (0,1)),probability=1)\n",
    "aug.add(AdditiveNoise(sigma = 0.3),probability=1)"
   ]
  },
  {
   "cell_type": "code",
   "execution_count": 33,
   "id": "3ccac2ae-5bca-467b-bcd2-b88f971b5e5f",
   "metadata": {},
   "outputs": [],
   "source": [
    "import numpy as np\n",
    "from augmend import Augmend, Elastic, FlipRot90\n",
    "\n",
    "# define augmentation pipeline\n",
    "aug = Augmend()\n",
    "aug.add([FlipRot90(axis=(0, 1, 2)),\n",
    "         FlipRot90(axis=(0, 1, 2))],\n",
    "        probability=0.9)\n",
    "\n",
    "aug.add([Elastic(axis=(0, 1, 2), amount=5, order=1),\n",
    "         Elastic(axis=(0, 1, 2), amount=5, order=0)],\n",
    "        probability=0.9)\n",
    "\n",
    "# example 3d image and label\n",
    "x = np.zeros((100,) * 3, np.float32)\n",
    "x[-20:, :20, :20] = 1.\n",
    "x[30:40, -10:] = .8\n",
    "Xs = np.meshgrid(*((np.arange(0, 100),) * 3), indexing=\"ij\")\n",
    "R = np.sqrt(np.sum([(X - c) ** 2 for X, c in zip(Xs, (70, 60, 50))], axis=0))\n",
    "x[R < 20] = 1.4\n",
    "y = np.zeros((100,) * 3, np.uint16)\n",
    "y[R < 20] = 200\n",
    "\n",
    "# resulting volume\n",
    "[xaug, yaug] = aug([x, y])"
   ]
  },
  {
   "cell_type": "code",
   "execution_count": 35,
   "id": "55b8bbde-5f1f-4d29-a2e1-875b9649adfd",
   "metadata": {},
   "outputs": [
    {
     "data": {
      "text/plain": [
       "array([[[0, 0, 0, ..., 0, 0, 0],\n",
       "        [0, 0, 0, ..., 0, 0, 0],\n",
       "        [0, 0, 0, ..., 0, 0, 0],\n",
       "        ...,\n",
       "        [0, 0, 0, ..., 0, 0, 0],\n",
       "        [0, 0, 0, ..., 0, 0, 0],\n",
       "        [0, 0, 0, ..., 0, 0, 0]],\n",
       "\n",
       "       [[0, 0, 0, ..., 0, 0, 0],\n",
       "        [0, 0, 0, ..., 0, 0, 0],\n",
       "        [0, 0, 0, ..., 0, 0, 0],\n",
       "        ...,\n",
       "        [0, 0, 0, ..., 0, 0, 0],\n",
       "        [0, 0, 0, ..., 0, 0, 0],\n",
       "        [0, 0, 0, ..., 0, 0, 0]],\n",
       "\n",
       "       [[0, 0, 0, ..., 0, 0, 0],\n",
       "        [0, 0, 0, ..., 0, 0, 0],\n",
       "        [0, 0, 0, ..., 0, 0, 0],\n",
       "        ...,\n",
       "        [0, 0, 0, ..., 0, 0, 0],\n",
       "        [0, 0, 0, ..., 0, 0, 0],\n",
       "        [0, 0, 0, ..., 0, 0, 0]],\n",
       "\n",
       "       ...,\n",
       "\n",
       "       [[0, 0, 0, ..., 0, 0, 0],\n",
       "        [0, 0, 0, ..., 0, 0, 0],\n",
       "        [0, 0, 0, ..., 0, 0, 0],\n",
       "        ...,\n",
       "        [0, 0, 0, ..., 0, 0, 0],\n",
       "        [0, 0, 0, ..., 0, 0, 0],\n",
       "        [0, 0, 0, ..., 0, 0, 0]],\n",
       "\n",
       "       [[0, 0, 0, ..., 0, 0, 0],\n",
       "        [0, 0, 0, ..., 0, 0, 0],\n",
       "        [0, 0, 0, ..., 0, 0, 0],\n",
       "        ...,\n",
       "        [0, 0, 0, ..., 0, 0, 0],\n",
       "        [0, 0, 0, ..., 0, 0, 0],\n",
       "        [0, 0, 0, ..., 0, 0, 0]],\n",
       "\n",
       "       [[0, 0, 0, ..., 0, 0, 0],\n",
       "        [0, 0, 0, ..., 0, 0, 0],\n",
       "        [0, 0, 0, ..., 0, 0, 0],\n",
       "        ...,\n",
       "        [0, 0, 0, ..., 0, 0, 0],\n",
       "        [0, 0, 0, ..., 0, 0, 0],\n",
       "        [0, 0, 0, ..., 0, 0, 0]]], dtype=uint16)"
      ]
     },
     "execution_count": 35,
     "metadata": {},
     "output_type": "execute_result"
    }
   ],
   "source": [
    "yaug"
   ]
  },
  {
   "cell_type": "raw",
   "id": "fc98ea49-ae0f-476c-b54e-f8d99b0e786f",
   "metadata": {},
   "source": []
  }
 ],
 "metadata": {
  "kernelspec": {
   "display_name": "DL for Image Analysis 2022 (Keras)",
   "language": "python",
   "name": "dl-mw-py39"
  },
  "language_info": {
   "codemirror_mode": {
    "name": "ipython",
    "version": 3
   },
   "file_extension": ".py",
   "mimetype": "text/x-python",
   "name": "python",
   "nbconvert_exporter": "python",
   "pygments_lexer": "ipython3",
   "version": "3.9.7"
  }
 },
 "nbformat": 4,
 "nbformat_minor": 5
}
